{
 "cells": [
  {
   "cell_type": "code",
   "execution_count": 1,
   "id": "51e3c83e-d3b4-433d-9bde-263593e58d53",
   "metadata": {},
   "outputs": [],
   "source": [
    "import os\n",
    "import numpy as np\n",
    "import pandas as pd"
   ]
  },
  {
   "cell_type": "code",
   "execution_count": 8,
   "id": "8fbd94c5-5ee3-40bf-81aa-947291284005",
   "metadata": {},
   "outputs": [],
   "source": [
    "def get_scale_score(population):\n",
    "    if polulation < 20:\n",
    "        scale_level = 1\n",
    "    elif polulation < 50:\n",
    "        scale_level = 2\n",
    "    elif polulation < 100:\n",
    "        scale_level = 3\n",
    "    elif polulation < 300:\n",
    "        scale_level = 4\n",
    "    elif polulation < 500:\n",
    "        scale_level = 5\n",
    "    elif polulation < 1000:\n",
    "        scale_level = 6\n",
    "    else:\n",
    "        scale_level = 7\n",
    "    return scale_level\n",
    "\n",
    "def get_env_score():\n",
    "    return 0\n",
    "\n",
    "def get_culture_score():\n",
    "    return 0\n",
    "\n",
    "def get_traffic_score():\n",
    "    return 0\n",
    "\n",
    "def get_climate_score():\n",
    "    return 0\n",
    "\n",
    "def get_gourmet_score(work_population):\n",
    "    return 0"
   ]
  },
  {
   "cell_type": "code",
   "execution_count": 26,
   "id": "7b27a65c-8f61-4cbb-bb41-ec34dbfec6ce",
   "metadata": {},
   "outputs": [
    {
     "data": {
      "text/plain": [
       "300"
      ]
     },
     "execution_count": 26,
     "metadata": {},
     "output_type": "execute_result"
    }
   ],
   "source": [
    "data_folder = r\"./original_data\"\n",
    "data_file_names = os.listdir(data_folder)\n",
    "city_names = map(lambda x: x.split('.')[0], data_file_names)\n",
    "food_work_df = pd.read_csv(\"./collected_data/food_work_population.csv\", encoding=\"utf-8\")\n",
    "groups = food_work_df.groupby(\"地区\")\n",
    "len(groups)\n",
    "# food_work_df"
   ]
  }
 ],
 "metadata": {
  "kernelspec": {
   "display_name": "Python 3 (ipykernel)",
   "language": "python",
   "name": "python3"
  },
  "language_info": {
   "codemirror_mode": {
    "name": "ipython",
    "version": 3
   },
   "file_extension": ".py",
   "mimetype": "text/x-python",
   "name": "python",
   "nbconvert_exporter": "python",
   "pygments_lexer": "ipython3",
   "version": "3.12.4"
  }
 },
 "nbformat": 4,
 "nbformat_minor": 5
}
