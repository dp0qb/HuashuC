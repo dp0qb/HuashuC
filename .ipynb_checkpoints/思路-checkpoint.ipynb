{
 "cells": [
  {
   "cell_type": "markdown",
   "id": "d7c163ad",
   "metadata": {},
   "source": [
    "# 第一题\n",
    "1. 将所有表格合并到一个DataFrame中，并且添加\"城市\"属性；\n",
    "2. 将所得DataFrame按\"评分\"属性排序；\n",
    "3. group_by \"评分\"，选出评分最高的group；\n",
    "4. 再将此group按照城市分组，行数多的即为拥有BS多的城市。"
   ]
  }
 ],
 "metadata": {
  "kernelspec": {
   "display_name": "Python 3 (ipykernel)",
   "language": "python",
   "name": "python3"
  },
  "language_info": {
   "codemirror_mode": {
    "name": "ipython",
    "version": 3
   },
   "file_extension": ".py",
   "mimetype": "text/x-python",
   "name": "python",
   "nbconvert_exporter": "python",
   "pygments_lexer": "ipython3",
   "version": "3.11.3"
  }
 },
 "nbformat": 4,
 "nbformat_minor": 5
}
