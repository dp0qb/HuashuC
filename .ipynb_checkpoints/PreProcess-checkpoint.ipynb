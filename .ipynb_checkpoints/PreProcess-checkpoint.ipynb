{
 "cells": [
  {
   "cell_type": "code",
   "execution_count": 23,
   "id": "07ede858",
   "metadata": {},
   "outputs": [],
   "source": [
    "import os\n",
    "import pandas as pd"
   ]
  },
  {
   "cell_type": "code",
   "execution_count": 22,
   "id": "315660b9",
   "metadata": {},
   "outputs": [],
   "source": [
    "input_folder = r\"./original_data\"\n",
    "output_folder = r\"./re_encode_data\"\n",
    "input_file_names = os.listdir(input_folder)\n",
    "for input_file_name in input_file_names:\n",
    "    input_file_path = os.path.join(input_folder, input_file_name)\n",
    "    output_file_path = os.path.join(output_folder, input_file_name)\n",
    "    df = pd.read_csv(input_file_path, encoding=\"utf-8\")\n",
    "    df.to_csv(output_file_path, encoding=\"utf-8-sig\")"
   ]
  },
  {
   "cell_type": "code",
   "execution_count": null,
   "id": "ef25cfc9",
   "metadata": {},
   "outputs": [],
   "source": []
  }
 ],
 "metadata": {
  "kernelspec": {
   "display_name": "Python 3 (ipykernel)",
   "language": "python",
   "name": "python3"
  },
  "language_info": {
   "codemirror_mode": {
    "name": "ipython",
    "version": 3
   },
   "file_extension": ".py",
   "mimetype": "text/x-python",
   "name": "python",
   "nbconvert_exporter": "python",
   "pygments_lexer": "ipython3",
   "version": "3.11.3"
  }
 },
 "nbformat": 4,
 "nbformat_minor": 5
}
