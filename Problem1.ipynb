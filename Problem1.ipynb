{
 "cells": [
  {
   "cell_type": "code",
   "execution_count": 19,
   "id": "652380a2",
   "metadata": {},
   "outputs": [],
   "source": [
    "import os\n",
    "import numpy as np\n",
    "import pandas as pd"
   ]
  },
  {
   "cell_type": "code",
   "execution_count": 44,
   "id": "a917066e",
   "metadata": {},
   "outputs": [],
   "source": [
    "# 删除空数据\n",
    "data_folder = r\"./re_encode_data\"\n",
    "data_file_names = os.listdir(data_folder)\n",
    "na_values = [\"--\"]\n",
    "main_df = pd.DataFrame()\n",
    "for data_file_name in data_file_names:\n",
    "    data_file_path = os.path.join(data_folder, data_file_name)\n",
    "    df = pd.read_csv(data_file_path, encoding=\"utf-8\", index_col=0, na_values=na_values)\n",
    "    df = df.dropna(axis=0,subset = [\"评分\"])\n",
    "    city_name = data_file_name.split('.')[0]\n",
    "    df[\"city_name\"] = city_name\n",
    "    main_df = pd.concat([main_df, df], axis=0)"
   ]
  },
  {
   "cell_type": "code",
   "execution_count": 101,
   "id": "89d19f28",
   "metadata": {},
   "outputs": [
    {
     "name": "stdout",
     "output_type": "stream",
     "text": [
      "景点最高分（BS）是5.0\n",
      "获得BS（最高得分）的景点有2563个。\n",
      "拥有BS（最高得分）景点数量最多的前10个城市为：['三沙', '五家渠', '玉溪', '益阳', '天门', '阿拉尔', '潍坊', '烟台', '大兴安岭', '邢台']\n"
     ]
    }
   ],
   "source": [
    "# main_df.to_csv(\"main_df.csv\", encoding=\"utf-8_sig\", index=False)\n",
    "main_df[\"评分\"].astype(np.float32)\n",
    "groups = main_df.groupby(\"评分\")\n",
    "best_score = 0\n",
    "i = 0\n",
    "for score, group in groups:\n",
    "    if i == 0:\n",
    "        best_score_citys = group\n",
    "    if score > best_score:\n",
    "        best_score = score\n",
    "        best_score_citys = group\n",
    "print(f\"景点最高分（BS）是{best_score}\")\n",
    "print(f\"获得BS（最高得分）的景点有{best_score_citys.shape[0]}个。\")\n",
    "best_score_city_groups = best_score_citys.groupby(\"city_name\")\n",
    "nsight_in_citys = []\n",
    "citys = []\n",
    "for city, group in best_score_city_groups:\n",
    "    citys.append(city)\n",
    "    nsight_in_citys.append(group.shape[0])\n",
    "city_name_and_nsight = pd.DataFrame([citys, nsight_in_citys])\n",
    "city_name_and_nsight = city_name_and_nsight.T\n",
    "city_name_and_nsight.columns = [\"city_name\", \"nsight\"]\n",
    "city_name_and_nsight = city_name_and_nsight.sort_values(\"nsight\", ascending=False)\n",
    "city_name_and_nsight.to_csv(\"./output/citys_and_nBS_sights.csv\", encoding=\"utf-8_sig\", index=False)\n",
    "top_10_citys = list(city_name_and_nsight[0:10][\"city_name\"])\n",
    "print(f\"拥有BS（最高得分）景点数量最多的前10个城市为：{top_10_citys}\")"
   ]
  },
  {
   "cell_type": "code",
   "execution_count": null,
   "id": "c889258a",
   "metadata": {},
   "outputs": [],
   "source": []
  }
 ],
 "metadata": {
  "kernelspec": {
   "display_name": "Python 3 (ipykernel)",
   "language": "python",
   "name": "python3"
  },
  "language_info": {
   "codemirror_mode": {
    "name": "ipython",
    "version": 3
   },
   "file_extension": ".py",
   "mimetype": "text/x-python",
   "name": "python",
   "nbconvert_exporter": "python",
   "pygments_lexer": "ipython3",
   "version": "3.11.3"
  }
 },
 "nbformat": 4,
 "nbformat_minor": 5
}
